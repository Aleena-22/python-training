{
 "cells": [
  {
   "cell_type": "code",
   "execution_count": 1,
   "metadata": {},
   "outputs": [
    {
     "name": "stdout",
     "output_type": "stream",
     "text": [
      "Person: Alice\n"
     ]
    }
   ],
   "source": [
    "\n",
    "# Create a metaclass called RequireToString that ensures any class using it must define a \n",
    "# __str__ method. If a class does not define __str__, raise a TypeError during class creation.\n",
    "\n",
    "class RequireToString(type):\n",
    " \n",
    "    def __new__(cls, name, bases, dct):\n",
    " \n",
    "        if '__str__' not in dct:\n",
    " \n",
    "            raise TypeError(f\"Class '{name}' must define a '__str__' method.\")\n",
    " \n",
    "        return super().__new__(cls, name, bases, dct)\n",
    " \n",
    "# Example usage\n",
    " \n",
    "class Person(metaclass=RequireToString):\n",
    " \n",
    "    def __init__(self, name):\n",
    " \n",
    "        self.name = name\n",
    " \n",
    "    def __str__(self):\n",
    " \n",
    "        return f\"Person: {self.name}\"\n",
    " \n",
    "# This will work\n",
    " \n",
    "p = Person(\"Alice\")\n",
    " \n",
    "print(p)\n",
    " \n",
    "# This will raise an error\n",
    " \n",
    "# class InvalidPerson(metaclass=RequireToString):\n",
    " \n",
    "#     def __init__(self, name):\n",
    " \n",
    "#         self.name = name"
   ]
  },
  {
   "cell_type": "code",
   "execution_count": 2,
   "metadata": {},
   "outputs": [
    {
     "name": "stdout",
     "output_type": "stream",
     "text": [
      "120\n",
      "Error: Factorial is not defined for negative numbers.\n"
     ]
    }
   ],
   "source": [
    "\n",
    "# Task 3: Creating custom exception\n",
    "# --------------------------------------------------\n",
    "\n",
    "# Create a NegativeNumberException\n",
    "\n",
    "# Define a nfactorial(n) function in which the above exception is raised\n",
    "\n",
    "# Use an exception handler to capture the exception when factorial() is\n",
    "# called with negative numbers\n",
    "\n",
    "# Custom Exception\n",
    "class NegativeNumberException(Exception):\n",
    "    def __init__(self, message=\"Factorial is not defined for negative numbers.\"):\n",
    "        self.message = message\n",
    "        super().__init__(self.message)\n",
    " \n",
    "# Factorial Function\n",
    "def nfactorial(n):\n",
    "    if n < 0:\n",
    "        raise NegativeNumberException()\n",
    "    result = 1\n",
    "    for i in range(1, n + 1):\n",
    "        result *= i\n",
    "    return result\n",
    " \n",
    "# Exception Handling\n",
    "try:\n",
    "    print(nfactorial(5))    # This will work\n",
    "    print(nfactorial(-3))   # This will raise the custom exception\n",
    "except NegativeNumberException as e:\n",
    "    print(f\"Error: {e}\")"
   ]
  },
  {
   "cell_type": "code",
   "execution_count": null,
   "metadata": {},
   "outputs": [],
   "source": []
  }
 ],
 "metadata": {
  "kernelspec": {
   "display_name": "Python 3",
   "language": "python",
   "name": "python3"
  },
  "language_info": {
   "codemirror_mode": {
    "name": "ipython",
    "version": 3
   },
   "file_extension": ".py",
   "mimetype": "text/x-python",
   "name": "python",
   "nbconvert_exporter": "python",
   "pygments_lexer": "ipython3",
   "version": "3.7.0"
  },
  "orig_nbformat": 4
 },
 "nbformat": 4,
 "nbformat_minor": 2
}
