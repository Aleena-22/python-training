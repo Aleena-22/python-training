{
 "cells": [
  {
   "cell_type": "markdown",
   "id": "f093c379-9adf-40f3-8b2a-08073a1b71b2",
   "metadata": {},
   "source": [
    "### Functions in python"
   ]
  },
  {
   "cell_type": "code",
   "execution_count": 1,
   "id": "a636e373-9bcb-47c1-a864-b9eadf9261f8",
   "metadata": {},
   "outputs": [],
   "source": [
    "def checkprime(n):\n",
    "    prime = True\n",
    "    for i in range(2,n):\n",
    "        if (n%i == 0):\n",
    "            prime = False\n",
    "            break\n",
    "    return prime\n",
    "    "
   ]
  },
  {
   "cell_type": "code",
   "execution_count": 2,
   "id": "c9f9981c",
   "metadata": {},
   "outputs": [
    {
     "data": {
      "text/plain": [
       "True"
      ]
     },
     "execution_count": 2,
     "metadata": {},
     "output_type": "execute_result"
    }
   ],
   "source": [
    "checkprime(2)"
   ]
  },
  {
   "cell_type": "markdown",
   "id": "f4886390",
   "metadata": {},
   "source": [
    "### Lambda Functions"
   ]
  },
  {
   "cell_type": "code",
   "execution_count": 3,
   "id": "f6b40a3e",
   "metadata": {},
   "outputs": [],
   "source": [
    "f = lambda a,b: a+b"
   ]
  },
  {
   "cell_type": "code",
   "execution_count": 4,
   "id": "3e21af48",
   "metadata": {},
   "outputs": [
    {
     "data": {
      "text/plain": [
       "function"
      ]
     },
     "execution_count": 4,
     "metadata": {},
     "output_type": "execute_result"
    }
   ],
   "source": [
    "type(f)"
   ]
  },
  {
   "cell_type": "code",
   "execution_count": 5,
   "id": "1790e545",
   "metadata": {},
   "outputs": [
    {
     "data": {
      "text/plain": [
       "30"
      ]
     },
     "execution_count": 5,
     "metadata": {},
     "output_type": "execute_result"
    }
   ],
   "source": [
    "f(10,20)"
   ]
  },
  {
   "cell_type": "markdown",
   "id": "9a9910fd",
   "metadata": {},
   "source": [
    "### Special Functions"
   ]
  },
  {
   "cell_type": "code",
   "execution_count": 6,
   "id": "9faa02cf",
   "metadata": {},
   "outputs": [
    {
     "data": {
      "text/plain": [
       "[53.6, 93.2, 132.8, 172.4, 212.0]"
      ]
     },
     "execution_count": 6,
     "metadata": {},
     "output_type": "execute_result"
    }
   ],
   "source": [
    "T = [12, 34, 56, 78, 100]\n",
    "F = []\n",
    "\n",
    "for temp in T:\n",
    "    F.append(temp* 1.8 + 32)\n",
    "F"
   ]
  },
  {
   "cell_type": "code",
   "execution_count": 7,
   "id": "f29b4b6f",
   "metadata": {},
   "outputs": [
    {
     "data": {
      "text/plain": [
       "[53.6, 93.2, 132.8, 172.4, 212.0]"
      ]
     },
     "execution_count": 7,
     "metadata": {},
     "output_type": "execute_result"
    }
   ],
   "source": [
    "f1 = map(lambda t: t * 1.8 + 32, T)\n",
    "list(f1)"
   ]
  },
  {
   "cell_type": "code",
   "execution_count": 8,
   "id": "8375ef20",
   "metadata": {},
   "outputs": [
    {
     "data": {
      "text/plain": [
       "[2, 3, 5, 7, 11, 13, 17, 19, 23, 29, 31, 37, 41, 43, 47]"
      ]
     },
     "execution_count": 8,
     "metadata": {},
     "output_type": "execute_result"
    }
   ],
   "source": [
    "N = list(range(2, 50))\n",
    "primes = []\n",
    "for number in N:\n",
    "    if checkprime(number):\n",
    "        primes.append(number)\n",
    "primes"
   ]
  },
  {
   "cell_type": "code",
   "execution_count": 10,
   "id": "b00892d5",
   "metadata": {},
   "outputs": [
    {
     "data": {
      "text/plain": [
       "[2, 3, 5, 7, 11, 13, 17, 19, 23, 29, 31, 37, 41, 43, 47]"
      ]
     },
     "execution_count": 10,
     "metadata": {},
     "output_type": "execute_result"
    }
   ],
   "source": [
    "p2 = filter(checkprime, range(2,50))\n",
    "list(p2)"
   ]
  },
  {
   "cell_type": "code",
   "execution_count": 15,
   "id": "97b99df6",
   "metadata": {},
   "outputs": [],
   "source": [
    "a = [\"red\",\"blue\",\"ash\"]\n",
    "b = [1,2,3]\n",
    "z = zip(a,b)\n",
    "zl = list(z)"
   ]
  },
  {
   "cell_type": "code",
   "execution_count": 16,
   "id": "2df57dc4",
   "metadata": {},
   "outputs": [
    {
     "data": {
      "text/plain": [
       "{'red': 1, 'blue': 2, 'ash': 3}"
      ]
     },
     "execution_count": 16,
     "metadata": {},
     "output_type": "execute_result"
    }
   ],
   "source": [
    "dict(zl)"
   ]
  },
  {
   "cell_type": "code",
   "execution_count": null,
   "id": "770fd0e4",
   "metadata": {},
   "outputs": [],
   "source": []
  }
 ],
 "metadata": {
  "kernelspec": {
   "display_name": "Python 3",
   "language": "python",
   "name": "python3"
  },
  "language_info": {
   "codemirror_mode": {
    "name": "ipython",
    "version": 3
   },
   "file_extension": ".py",
   "mimetype": "text/x-python",
   "name": "python",
   "nbconvert_exporter": "python",
   "pygments_lexer": "ipython3",
   "version": "3.13.2"
  }
 },
 "nbformat": 4,
 "nbformat_minor": 5
}
