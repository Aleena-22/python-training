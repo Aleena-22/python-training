{
 "cells": [
  {
   "cell_type": "code",
   "execution_count": 3,
   "metadata": {},
   "outputs": [
    {
     "name": "stdout",
     "output_type": "stream",
     "text": [
      "Radius: 3\n",
      "Circumference: 18.84955592153876\n",
      "True\n",
      "False\n"
     ]
    }
   ],
   "source": [
    "# Create a Python class called Circle that represents a circle.\n",
    "# The class should allow the following: Use @property to return the circumference of the circle\n",
    "#   using the formula 2 * π * radius. Use @classmethod to create a Circle instance from a diameter.\n",
    "# Use @staticmethod to check if a given value is a valid radius (i.e., a positive number).\n",
    "\n",
    "import math\n",
    "           \n",
    "class Circle:\n",
    "    def __init__(self, radius):\n",
    "        self.radius = radius\n",
    " \n",
    "    @property\n",
    "    def circumference(self):\n",
    "        return 2 * math.pi * self.radius\n",
    " \n",
    "    @classmethod\n",
    "    def circle_from_diameter(cls, diameter):\n",
    "        radius = diameter / 2\n",
    "        return cls(radius)\n",
    " \n",
    "    @staticmethod\n",
    "    def is_valid(value):\n",
    "        return isinstance(value, (int, float)) and value > 0\n",
    " \n",
    "circle1 = Circle(3)\n",
    "print(f\"Radius: {circle1.radius}\")\n",
    "print(f\"Circumference: {circle1.circumference}\")\n",
    " \n",
    "circle2 = Circle.circle_from_diameter(4)\n",
    " \n",
    "print(Circle.is_valid(6))  \n",
    "print(Circle.is_valid(-6))"
   ]
  },
  {
   "cell_type": "code",
   "execution_count": 2,
   "metadata": {},
   "outputs": [
    {
     "name": "stdout",
     "output_type": "stream",
     "text": [
      "Your balance is ₹10000\n",
      "True\n",
      "False\n"
     ]
    }
   ],
   "source": [
    "# Create a class called BankAccount to represent a user’s bank account. \n",
    "# The class should allow the following:\n",
    "\n",
    "# Use @property to return the current balance with a message like \"Your balance is ₹5000\".\n",
    "\n",
    "# Use @classmethod to create a BankAccount from a dictionary containing account details like:\n",
    "# {\"name\": \"Alice\", \"balance\": 10000}\n",
    "\n",
    "# Use @staticmethod to check if a given withdrawal amount is valid, i.e., \n",
    "# it must be a positive number and less than or equal to the current balance.\n",
    "\n",
    "\n",
    "class BankAccount:\n",
    "    def __init__(self, name, balance):\n",
    "        self.name = name\n",
    "        self._balance = balance\n",
    "\n",
    "    @property\n",
    "    def balance(self):\n",
    "        return f\"Your balance is ₹{self._balance}\"\n",
    "\n",
    "    @classmethod\n",
    "    def from_dict(cls, account_detail):\n",
    "        return cls(account_detail[\"name\"], account_detail[\"balance\"])\n",
    "\n",
    "    @staticmethod\n",
    "    def is_valid_withdrawal(amount, current_balance):\n",
    "        return amount > 0 and amount <= current_balance\n",
    "\n",
    "# Example usage:\n",
    "account = BankAccount.from_dict({\"name\": \"Alice\", \"balance\": 10000})\n",
    "\n",
    "print(account.balance)\n",
    "\n",
    "print(BankAccount.is_valid_withdrawal(5000, account._balance))  \n",
    "print(BankAccount.is_valid_withdrawal(15000, account._balance))\n"
   ]
  },
  {
   "cell_type": "code",
   "execution_count": null,
   "metadata": {},
   "outputs": [],
   "source": []
  }
 ],
 "metadata": {
  "kernelspec": {
   "display_name": "Python 3",
   "language": "python",
   "name": "python3"
  },
  "language_info": {
   "codemirror_mode": {
    "name": "ipython",
    "version": 3
   },
   "file_extension": ".py",
   "mimetype": "text/x-python",
   "name": "python",
   "nbconvert_exporter": "python",
   "pygments_lexer": "ipython3",
   "version": "3.7.0"
  },
  "orig_nbformat": 4
 },
 "nbformat": 4,
 "nbformat_minor": 2
}
