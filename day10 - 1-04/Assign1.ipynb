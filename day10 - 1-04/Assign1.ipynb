{
 "cells": [
  {
   "cell_type": "code",
   "execution_count": 24,
   "metadata": {},
   "outputs": [
    {
     "name": "stdout",
     "output_type": "stream",
     "text": [
      "Brand -> Mauthi suzuki\n",
      "Model -> Alto\n",
      "Year -> 2000\n",
      "Mileage -> 10000 km\n",
      "Fuel Level -> 0 liters\n"
     ]
    }
   ],
   "source": [
    "# 1️⃣ Basic Class Creation: Car\n",
    "# ------------------------------------------------------------------\n",
    "# Task: Create a class Car with attributes and methods as follows:\n",
    "\n",
    "# Attributes: brand, model, year, mileage\n",
    "\n",
    "# Methods:\n",
    "\n",
    "# drive(distance): Increases mileage by distance.\n",
    "\n",
    "# display_info(): Prints all details of the car.\n",
    "\n",
    "# ✅ Enhance: Add a fuel_level attribute and a method refuel(amount) to increase it.\n",
    "# Adjust rest of the attributes accordinly\n",
    "\n",
    "class Car:\n",
    "    def __init__(self, brand, model, year, mileage, fuel_level=0):\n",
    "        self.brand = brand\n",
    "        self.model = model\n",
    "        self.year = year\n",
    "        self.mileage = int(mileage)\n",
    "        self.fuel_level = fuel_level\n",
    "    \n",
    "    def drive(self, distance):\n",
    "        if self.fuel_level > 0:\n",
    "            self.mileage += distance\n",
    "            self.fuel_level -= distance * 0.1 # 0.1L for 1km\n",
    "        else:\n",
    "            print(\"refuel\")\n",
    "    \n",
    "    def refuel(self, amount):\n",
    "        self.fuel_level += amount\n",
    "\n",
    "    def display_info(self):\n",
    "        print(f\"Brand -> {self.brand}\")\n",
    "        print(f\"Model -> {self.model}\")\n",
    "        print(f\"Year -> {self.year}\")\n",
    "        print(f\"Mileage -> {self.mileage} km\")\n",
    "        print(f\"Fuel Level -> {self.fuel_level} liters\")\n",
    "    \n",
    "car = Car(\"Mauthi suzuki\", \"Alto\", \"2000\", \"10000\")\n",
    "car.display_info()\n"
   ]
  },
  {
   "cell_type": "code",
   "execution_count": 10,
   "metadata": {},
   "outputs": [],
   "source": [
    "car.refuel(50)"
   ]
  },
  {
   "cell_type": "code",
   "execution_count": 11,
   "metadata": {},
   "outputs": [],
   "source": [
    "car.drive(100)"
   ]
  },
  {
   "cell_type": "code",
   "execution_count": 12,
   "metadata": {},
   "outputs": [
    {
     "name": "stdout",
     "output_type": "stream",
     "text": [
      "Brand -> Mauthi suzuki\n",
      "Model -> Alto\n",
      "Year -> 2000\n",
      "Mileage -> 10100 km\n",
      "Fuel Level -> 40.0 liters\n"
     ]
    }
   ],
   "source": [
    "car.display_info()"
   ]
  },
  {
   "cell_type": "code",
   "execution_count": 7,
   "metadata": {},
   "outputs": [
    {
     "name": "stdout",
     "output_type": "stream",
     "text": [
      "Account balance -> ₹500\n"
     ]
    }
   ],
   "source": [
    "# 2️⃣ Class with Encapsulation: BankAccount\n",
    "# ------------------------------------------------------------------\n",
    "# Task: Implement a BankAccount class with:\n",
    "\n",
    "# Attributes: balance, account_number\n",
    "\n",
    "# Methods:\n",
    "\n",
    "# deposit(amount): Adds money to balance.\n",
    "\n",
    "# withdraw(amount): Deducts money if enough balance is available.\n",
    "\n",
    "# get_balance(): Returns balance.\n",
    "\n",
    "# ✅ Enhance: Prevent withdrawal if balance falls below a minimum threshold.\n",
    "\n",
    "class BankAccount:\n",
    "    def __init__(self, account_number, balance = 0, min_balance = 100):\n",
    "        self.balance = balance\n",
    "        self.account_number = account_number\n",
    "        self.min_balance = min_balance\n",
    "    \n",
    "    def deposit(self, amount):\n",
    "        if amount > 0:\n",
    "            self.balance += amount\n",
    "        else:\n",
    "            print(\"Invalid\")\n",
    "\n",
    "    def withdraw(self, amount):\n",
    "        if amount > 0:\n",
    "            if self.balance - amount >= self.min_balance:\n",
    "                self.balance -= amount\n",
    "        else:\n",
    "            print(\"Invalid\")\n",
    "\n",
    "    def get_balance(self):\n",
    "        return f\"Account balance -> ₹{self.balance}\"\n",
    "\n",
    "account = BankAccount(\"123456789\", balance=500, min_balance=100)\n",
    "print(account.get_balance())\n"
   ]
  },
  {
   "cell_type": "code",
   "execution_count": 8,
   "metadata": {},
   "outputs": [
    {
     "name": "stdout",
     "output_type": "stream",
     "text": [
      "Account balance -> ₹150\n"
     ]
    }
   ],
   "source": [
    "account.deposit(200)\n",
    "account.withdraw(550)\n",
    "print(account.get_balance())"
   ]
  },
  {
   "cell_type": "code",
   "execution_count": 38,
   "metadata": {},
   "outputs": [],
   "source": [
    "# 3️⃣ Class with Methods and Properties: Rectangle\n",
    "# ------------------------------------------------------------------\n",
    "# Task: Design a Rectangle class:\n",
    "\n",
    "# Attributes: length, width\n",
    "\n",
    "# Methods:\n",
    "\n",
    "# area(): Returns area.\n",
    "\n",
    "# perimeter(): Returns perimeter.\n",
    "\n",
    "# is_square(): Returns True if it’s a square, otherwise False.\n",
    "\n",
    "# ✅ Enhance: Use logic to prevent setting negative values for length and width.\n",
    "\n",
    "\n",
    "class Rectangle:\n",
    "    def __init__(self, length, width):\n",
    "        self.length = max(0, length)\n",
    "        self.width = max(0, width)\n",
    "\n",
    "    def area(self):\n",
    "        return self.length * self.width\n",
    "    \n",
    "    def perimeter(self):\n",
    "        return 2 * (self.length + self.width)\n",
    "    \n",
    "    def is_square(self):\n",
    "        return self.length == self.width\n",
    "    \n",
    "    def set_dimensions(self, length, width):\n",
    "        if length >= 0 and width >= 0:\n",
    "            self.length = length\n",
    "            self.width = width\n",
    "            print(f\"Updated dimensions: {self.length} x {self.width}\")\n",
    "        else:\n",
    "            print(\"Length and width must be non-negative.\")\n",
    "\n",
    "    def display_info(self):\n",
    "        print(f\"Length -> {self.length}, Width: {self.width}\")\n",
    "        print(f\"Area -> {self.area()}\")\n",
    "        print(f\"Perimeter -> {self.perimeter()}\")\n",
    "        print(f\"Is Square -> {self.is_square()}\")"
   ]
  },
  {
   "cell_type": "code",
   "execution_count": 35,
   "metadata": {},
   "outputs": [
    {
     "name": "stdout",
     "output_type": "stream",
     "text": [
      "Length -> 5, Width: 10\n",
      "Area -> 50\n",
      "Perimeter -> 30\n",
      "Is Square -> False\n"
     ]
    }
   ],
   "source": [
    "rectangle = Rectangle(5, 10)\n",
    "rectangle.display_info()"
   ]
  },
  {
   "cell_type": "code",
   "execution_count": 36,
   "metadata": {},
   "outputs": [
    {
     "name": "stdout",
     "output_type": "stream",
     "text": [
      "Updated dimensions: 8 x 8\n",
      "Length -> 8, Width: 8\n",
      "Area -> 64\n",
      "Perimeter -> 32\n",
      "Is Square -> True\n"
     ]
    }
   ],
   "source": [
    "rectangle.set_dimensions(8, 8)\n",
    "rectangle.display_info()"
   ]
  },
  {
   "cell_type": "code",
   "execution_count": 37,
   "metadata": {},
   "outputs": [
    {
     "name": "stdout",
     "output_type": "stream",
     "text": [
      "Length and width must be non-negative.\n"
     ]
    }
   ],
   "source": [
    "rectangle.set_dimensions(-3, 6) "
   ]
  },
  {
   "cell_type": "code",
   "execution_count": null,
   "metadata": {},
   "outputs": [],
   "source": []
  }
 ],
 "metadata": {
  "kernelspec": {
   "display_name": "Python 3",
   "language": "python",
   "name": "python3"
  },
  "language_info": {
   "codemirror_mode": {
    "name": "ipython",
    "version": 3
   },
   "file_extension": ".py",
   "mimetype": "text/x-python",
   "name": "python",
   "nbconvert_exporter": "python",
   "pygments_lexer": "ipython3",
   "version": "3.7.0"
  },
  "orig_nbformat": 4
 },
 "nbformat": 4,
 "nbformat_minor": 2
}
