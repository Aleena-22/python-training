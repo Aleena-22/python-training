{
 "cells": [
  {
   "cell_type": "code",
   "execution_count": 3,
   "metadata": {},
   "outputs": [],
   "source": [
    "class employee:\n",
    "\n",
    "    nEmployees = 0\n",
    "\n",
    "    def __init__(self,name, age, company, salary):\n",
    "        self.name = name\n",
    "        self.age = age\n",
    "        self.company = company\n",
    "        self.salary = salary\n",
    "        self.taxrate = 0\n",
    "        self.bonus = 0\n",
    "        self.net_salary = self.salary\n",
    "        employee.nEmployees += 1\n",
    "\n",
    "    def set_taxrate(self, tr):\n",
    "        self.taxrate = tr\n",
    "        self.update_net_salary()\n",
    "        return\n",
    "\n",
    "    def set_bonus(self, bonus_pct):\n",
    "        try:\n",
    "            self.bonus = bonus_pct\n",
    "            temp = float(self.net_salary.split()[0])\n",
    "            temp = temp + (temp * self.taxrate/100)\n",
    "            self.net_salery = ' '.join([temp, 'INR'])\n",
    "        except:\n",
    "            print(\"incompatible operation\")\n",
    "\n",
    "    def update_net_salary(self):\n",
    "        try:\n",
    "            temp =float(self.salary.split()[0])\n",
    "            temp = temp - (temp * self.bonus/100)\n",
    "            self.net_salary = ' '.join([str(temp), 'INR'])\n",
    "            return\n",
    "        except:\n",
    "            print(\"Incompatible input\")\n",
    "\n",
    "    def print(self):\n",
    "        print(\"NAME\".ljust(20), ' -> ', self.name)\n",
    "        print(\"AGE\".ljust(20), ' -> ', self.age)\n",
    "        print(\"COMPANY\".ljust(20), ' -> ', self.company)\n",
    "        print(\"-\" * 80)\n",
    "        print(\"GROSS SALARY\".ljust(20), ' = ', self.salary)\n",
    "        print(\"TAX RATE\".ljust(20), ' = ', self.taxrate)\n",
    "        print(\"BONUS\".ljust(20), ' = ', self.bonus, 'pct')\n",
    "        print(\"-\" * 80)\n",
    "        print(\"NET SALARY\".ljust(20), ' = ', self.net_salary)"
   ]
  },
  {
   "cell_type": "code",
   "execution_count": 4,
   "metadata": {},
   "outputs": [],
   "source": [
    "e  = employee(\"Anna\", 25, \"UST Global\", \"1500000 INR\")"
   ]
  },
  {
   "cell_type": "code",
   "execution_count": 5,
   "metadata": {},
   "outputs": [
    {
     "name": "stdout",
     "output_type": "stream",
     "text": [
      "NAME                  ->  Anna\n",
      "AGE                   ->  25\n",
      "COMPANY               ->  UST Global\n",
      "--------------------------------------------------------------------------------\n",
      "GROSS SALARY          =  1500000 INR\n",
      "TAX RATE              =  0\n",
      "BONUS                 =  0 pct\n",
      "--------------------------------------------------------------------------------\n",
      "NET SALARY            =  1500000 INR\n"
     ]
    }
   ],
   "source": [
    "e.print()"
   ]
  },
  {
   "cell_type": "code",
   "execution_count": 6,
   "metadata": {},
   "outputs": [
    {
     "name": "stdout",
     "output_type": "stream",
     "text": [
      "NAME                  ->  Anna\n",
      "AGE                   ->  25\n",
      "COMPANY               ->  UST Global\n",
      "--------------------------------------------------------------------------------\n",
      "GROSS SALARY          =  1500000 INR\n",
      "TAX RATE              =  10\n",
      "BONUS                 =  0 pct\n",
      "--------------------------------------------------------------------------------\n",
      "NET SALARY            =  1500000.0 INR\n"
     ]
    }
   ],
   "source": [
    "e.set_taxrate(10)\n",
    "e.print()"
   ]
  },
  {
   "cell_type": "code",
   "execution_count": 7,
   "metadata": {},
   "outputs": [
    {
     "name": "stdout",
     "output_type": "stream",
     "text": [
      "incompatible operation\n",
      "NAME                  ->  Anna\n",
      "AGE                   ->  25\n",
      "COMPANY               ->  UST Global\n",
      "--------------------------------------------------------------------------------\n",
      "GROSS SALARY          =  1500000 INR\n",
      "TAX RATE              =  10\n",
      "BONUS                 =  10 pct\n",
      "--------------------------------------------------------------------------------\n",
      "NET SALARY            =  1500000.0 INR\n"
     ]
    }
   ],
   "source": [
    "e.set_bonus(10)\n",
    "e.print()"
   ]
  },
  {
   "cell_type": "code",
   "execution_count": 8,
   "metadata": {},
   "outputs": [
    {
     "data": {
      "text/plain": [
       "1"
      ]
     },
     "execution_count": 8,
     "metadata": {},
     "output_type": "execute_result"
    }
   ],
   "source": [
    "employee.nEmployees"
   ]
  },
  {
   "cell_type": "code",
   "execution_count": 9,
   "metadata": {},
   "outputs": [
    {
     "data": {
      "text/plain": [
       "1"
      ]
     },
     "execution_count": 9,
     "metadata": {},
     "output_type": "execute_result"
    }
   ],
   "source": [
    "e.nEmployees"
   ]
  },
  {
   "cell_type": "code",
   "execution_count": 10,
   "metadata": {},
   "outputs": [],
   "source": [
    "e1 = employee(\"Sunil\", 35, \"UST Global\", \"1500000 INR\")\n",
    "e2 = employee(\"Vinil\", 35, \"UST Global\", \"1500000 INR\")"
   ]
  },
  {
   "cell_type": "code",
   "execution_count": 11,
   "metadata": {},
   "outputs": [
    {
     "data": {
      "text/plain": [
       "3"
      ]
     },
     "execution_count": 11,
     "metadata": {},
     "output_type": "execute_result"
    }
   ],
   "source": [
    "e.nEmployees"
   ]
  },
  {
   "cell_type": "code",
   "execution_count": 12,
   "metadata": {},
   "outputs": [
    {
     "data": {
      "text/plain": [
       "(3, 3, 3)"
      ]
     },
     "execution_count": 12,
     "metadata": {},
     "output_type": "execute_result"
    }
   ],
   "source": [
    "e.nEmployees, e1.nEmployees, e2.nEmployees"
   ]
  },
  {
   "cell_type": "code",
   "execution_count": null,
   "metadata": {},
   "outputs": [],
   "source": []
  }
 ],
 "metadata": {
  "kernelspec": {
   "display_name": "testenv",
   "language": "python",
   "name": "python3"
  },
  "language_info": {
   "codemirror_mode": {
    "name": "ipython",
    "version": 3
   },
   "file_extension": ".py",
   "mimetype": "text/x-python",
   "name": "python",
   "nbconvert_exporter": "python",
   "pygments_lexer": "ipython3",
   "version": "3.7.0"
  },
  "orig_nbformat": 4
 },
 "nbformat": 4,
 "nbformat_minor": 2
}
