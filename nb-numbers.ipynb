{
 "cells": [
  {
   "cell_type": "code",
   "execution_count": 1,
   "id": "9dd092fd-31ad-400e-83d2-f448ffe31358",
   "metadata": {},
   "outputs": [
    {
     "name": "stdout",
     "output_type": "stream",
     "text": [
      "Hello\n"
     ]
    }
   ],
   "source": [
    "print(\"Hello\")"
   ]
  },
  {
   "cell_type": "markdown",
   "id": "4a02d137-5d41-4cac-91e6-25c48c43330c",
   "metadata": {},
   "source": [
    "This is my first work"
   ]
  },
  {
   "cell_type": "markdown",
   "id": "45253280-06e2-4d19-8510-1b2e3be6f941",
   "metadata": {},
   "source": [
    "### 1.1 Support for numeric values in python"
   ]
  },
  {
   "cell_type": "code",
   "execution_count": 2,
   "id": "b01d051c-7b47-4d1a-a22d-d6226257fb29",
   "metadata": {},
   "outputs": [],
   "source": [
    "a = 10"
   ]
  },
  {
   "cell_type": "code",
   "execution_count": 3,
   "id": "82f0b5fc-4493-444a-b5ce-501c61508310",
   "metadata": {},
   "outputs": [],
   "source": [
    "b = 20"
   ]
  },
  {
   "cell_type": "code",
   "execution_count": 4,
   "id": "792760ae-7a03-44a2-9675-90212517166d",
   "metadata": {},
   "outputs": [
    {
     "name": "stdout",
     "output_type": "stream",
     "text": [
      "30\n"
     ]
    }
   ],
   "source": [
    "print(a + b )"
   ]
  },
  {
   "cell_type": "code",
   "execution_count": 5,
   "id": "afa97d8b-0bfd-4c56-a69c-af9ffa870efe",
   "metadata": {},
   "outputs": [
    {
     "data": {
      "text/plain": [
       "int"
      ]
     },
     "execution_count": 5,
     "metadata": {},
     "output_type": "execute_result"
    }
   ],
   "source": [
    "type(a)"
   ]
  },
  {
   "cell_type": "code",
   "execution_count": 6,
   "id": "b4baa451-4a24-4334-8f15-3b0f63e1a81d",
   "metadata": {},
   "outputs": [],
   "source": [
    "c = 31.131"
   ]
  },
  {
   "cell_type": "code",
   "execution_count": 7,
   "id": "66565501-f030-4a6f-ba87-82a4ec291704",
   "metadata": {},
   "outputs": [
    {
     "data": {
      "text/plain": [
       "float"
      ]
     },
     "execution_count": 7,
     "metadata": {},
     "output_type": "execute_result"
    }
   ],
   "source": [
    "type(c)"
   ]
  },
  {
   "cell_type": "markdown",
   "id": "b9e45f85-09b7-4e0f-a5b8-5adb0cc8821b",
   "metadata": {},
   "source": [
    "Q1. Given temperature t in Celcius, write a python expression to convert into farenheit.\n",
    "Q2. Given two points A(x1, y1) and B(x2, y2), calculate the straight line distance between them.\n",
    "Q3. Calculate the area of the triangle with threen given points A(x1, y1), B(x2, y2), C(x3, y3)."
   ]
  },
  {
   "cell_type": "code",
   "execution_count": 19,
   "id": "e59ecb34-cdcb-4f78-8d9c-3f586c4b70c1",
   "metadata": {},
   "outputs": [
    {
     "name": "stdout",
     "output_type": "stream",
     "text": [
      "98.60000000000001\n"
     ]
    }
   ],
   "source": [
    "#Q1\n",
    "\n",
    "c = 37\n",
    "f = ( c * (9 / 5) ) + 32\n",
    "print(f)"
   ]
  },
  {
   "cell_type": "code",
   "execution_count": 16,
   "id": "2fff87fd-a791-466f-936b-acde4029f7b6",
   "metadata": {},
   "outputs": [
    {
     "name": "stdout",
     "output_type": "stream",
     "text": [
      "1.4142135623730951\n"
     ]
    }
   ],
   "source": [
    "# Q2\n",
    "\n",
    "import math\n",
    "x1 = 3\n",
    "y1 = 2\n",
    "\n",
    "x2 = 4\n",
    "y2 = 1\n",
    "\n",
    "d = math.sqrt((x2 - x1)**2 + (y2 - y1)**2)\n",
    "print(d)"
   ]
  },
  {
   "cell_type": "code",
   "execution_count": 20,
   "id": "5c211694-7215-4987-b1a2-ff28756629bd",
   "metadata": {},
   "outputs": [
    {
     "name": "stdout",
     "output_type": "stream",
     "text": [
      "2.000000000000002\n"
     ]
    }
   ],
   "source": [
    "#Q3\n",
    "\n",
    "import math\n",
    "x1 = 3\n",
    "y1 = 2\n",
    "\n",
    "x2 = 4\n",
    "y2 = 2\n",
    "\n",
    "x3 = 5\n",
    "y3 = 6\n",
    "\n",
    "a = math.sqrt((x2 - x1)**2 + (y2 - y1)**2)\n",
    "b = math.sqrt((x2 - x3)**2 + (y2 - y3)**2)\n",
    "c = math.sqrt((x3 - x1)**2 + (y3 - y1)**2)\n",
    "\n",
    "s = (a + b + c) / 2\n",
    "area = math.sqrt(s * (s - a) * (s - b) * (s - c))\n",
    "print(area)"
   ]
  },
  {
   "cell_type": "code",
   "execution_count": null,
   "id": "e6d0d764-c7f2-4348-b474-d867df9e90f7",
   "metadata": {},
   "outputs": [],
   "source": []
  }
 ],
 "metadata": {
  "kernelspec": {
   "display_name": "Python 3 (ipykernel)",
   "language": "python",
   "name": "python3"
  },
  "language_info": {
   "codemirror_mode": {
    "name": "ipython",
    "version": 3
   },
   "file_extension": ".py",
   "mimetype": "text/x-python",
   "name": "python",
   "nbconvert_exporter": "python",
   "pygments_lexer": "ipython3",
   "version": "3.12.4"
  }
 },
 "nbformat": 4,
 "nbformat_minor": 5
}
