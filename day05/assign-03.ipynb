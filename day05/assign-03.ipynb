{
 "cells": [
  {
   "cell_type": "code",
   "execution_count": 5,
   "metadata": {},
   "outputs": [
    {
     "name": "stdout",
     "output_type": "stream",
     "text": [
      "34\n"
     ]
    }
   ],
   "source": [
    "# 1. Write a recursive function to compute the nth Fibonacci number.\n",
    "\n",
    "def fibo_recursive(n):\n",
    "    if n <= 1:\n",
    "        return n\n",
    "    return fibo_recursive(n - 1) + fibo_recursive(n - 2)\n",
    "\n",
    "n = 9\n",
    "print(fibo_recursive(n))"
   ]
  },
  {
   "cell_type": "code",
   "execution_count": 7,
   "metadata": {},
   "outputs": [
    {
     "data": {
      "text/plain": [
       "720"
      ]
     },
     "execution_count": 7,
     "metadata": {},
     "output_type": "execute_result"
    }
   ],
   "source": [
    "# 2. Write a recursive function to compute the factorial of a number.\n",
    "\n",
    "def fact_recursive(n):\n",
    "    if n == 1 or n == 0:\n",
    "        return 1\n",
    "    return n * fact_recursive(n - 1)\n",
    "\n",
    "n = 6\n",
    "fact_recursive(n)"
   ]
  },
  {
   "cell_type": "code",
   "execution_count": 1,
   "metadata": {},
   "outputs": [
    {
     "name": "stdout",
     "output_type": "stream",
     "text": [
      "[]\n",
      "[3]\n",
      "[2]\n",
      "[3, 2]\n",
      "[1]\n",
      "[3, 1]\n",
      "[2, 1]\n",
      "[3, 2, 1]\n"
     ]
    }
   ],
   "source": [
    "# Generate all the subsets of a given set - explore and explain\n",
    "#     Input: generate_subsets([1, 2, 3])\n",
    "#     Output: []\n",
    "#             [3]\n",
    "#             [2]\n",
    "#             [2, 3]\n",
    "#             [1]\n",
    "#             [1, 3]\n",
    "#             [1, 2]\n",
    "#             [1, 2, 3]\n",
    "\n",
    "def generate_subsets_recursive_alt(input_set):\n",
    "    \n",
    "    if not input_set:\n",
    "        return [[]]\n",
    "\n",
    "    smaller_subsets = generate_subsets_recursive_alt(input_set[1:])\n",
    "    element = input_set[0]\n",
    "    \n",
    "    extended_subsets = [subset + [element] for subset in smaller_subsets]\n",
    "    \n",
    "    return smaller_subsets + extended_subsets\n",
    "\n",
    "input_set = [1, 2, 3]\n",
    "result = generate_subsets_recursive_alt(input_set)\n",
    "\n",
    "for subset in result:\n",
    "    print(subset)\n"
   ]
  },
  {
   "cell_type": "code",
   "execution_count": 9,
   "metadata": {},
   "outputs": [
    {
     "name": "stdout",
     "output_type": "stream",
     "text": [
      "[2, 5]\n"
     ]
    }
   ],
   "source": [
    "#  Write a function that takes any number of lists and returns a list of elements that are common to all.\n",
    "\n",
    "#     # Example usage:\n",
    "#     list1 = [1, 2, 3, 4, 5]\n",
    "#     list2 = [2, 3, 5, 7, 9]\n",
    "#     list3 = [1, 2, 5, 8, 10]\n",
    "\n",
    "#     print(find_common(list1, list2, list3))\n",
    "\n",
    "def find_common_recursive(*lists):\n",
    "    def helper(index, common):\n",
    "        if index == len(lists):\n",
    "            return common\n",
    "        \n",
    "        common = [item for item in common if item in lists[index]]\n",
    "        return helper(index + 1, common)\n",
    "    \n",
    "    return helper(1, lists[0])\n",
    "\n",
    "list1 = [1, 2, 3, 4, 5]\n",
    "list2 = [2, 3, 5, 7, 9]\n",
    "list3 = [1, 2, 5, 8, 10]\n",
    "\n",
    "print(find_common_recursive(list1, list2, list3))\n"
   ]
  },
  {
   "cell_type": "code",
   "execution_count": null,
   "metadata": {},
   "outputs": [],
   "source": []
  }
 ],
 "metadata": {
  "kernelspec": {
   "display_name": "Python 3",
   "language": "python",
   "name": "python3"
  },
  "language_info": {
   "codemirror_mode": {
    "name": "ipython",
    "version": 3
   },
   "file_extension": ".py",
   "mimetype": "text/x-python",
   "name": "python",
   "nbconvert_exporter": "python",
   "pygments_lexer": "ipython3",
   "version": "3.13.2"
  }
 },
 "nbformat": 4,
 "nbformat_minor": 2
}
