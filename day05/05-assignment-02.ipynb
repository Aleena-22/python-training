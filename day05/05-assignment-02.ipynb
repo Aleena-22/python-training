{
 "cells": [
  {
   "cell_type": "code",
   "execution_count": 2,
   "metadata": {},
   "outputs": [
    {
     "name": "stdout",
     "output_type": "stream",
     "text": [
      "Jumbled version: E S L A P P\n"
     ]
    }
   ],
   "source": [
    "#  Write a functions that returns the jumbled version of the words with spaces and capital letters\n",
    "#    Example: Input <- jumble(\"apples\")\n",
    "#             Output -> P P L A E S \n",
    "import random\n",
    "\n",
    "def jumpWords(str):\n",
    "    letters = list(str.upper())\n",
    "    random.shuffle(letters)\n",
    "    return \" \".join(letters)\n",
    "\n",
    "input_word = 'Apples'\n",
    "result = jumpWords(input_word)\n",
    "print(\"Jumbled version:\", result)\n",
    "\n",
    "    "
   ]
  },
  {
   "cell_type": "code",
   "execution_count": 8,
   "metadata": {},
   "outputs": [
    {
     "name": "stdout",
     "output_type": "stream",
     "text": [
      "8 is in fibonocci range\n"
     ]
    },
    {
     "data": {
      "text/plain": [
       "[0, 1, 1, 2, 3, 5, 8, 13, 21, 34]"
      ]
     },
     "execution_count": 8,
     "metadata": {},
     "output_type": "execute_result"
    }
   ],
   "source": [
    "#  Write a function to determine if a number is a fibonacci number\n",
    "#    Example: Input <- 8\n",
    "#             OUtput -> 8 is in the fibonacci range\n",
    "\n",
    "def fibo(n, element):\n",
    "    fib_series = [0, 1]\n",
    "    for i in range (2, n):\n",
    "        fib_series.append(fib_series[-2] + fib_series[-1])\n",
    "    if element in fib_series:\n",
    "        print(f\"{element} is in fibonocci range\")\n",
    "    else:\n",
    "        print(f\"{element} is not in fibonocci range\")\n",
    "    return fib_series\n",
    "\n",
    "fibo(10, 8)"
   ]
  },
  {
   "cell_type": "code",
   "execution_count": 17,
   "metadata": {},
   "outputs": [
    {
     "name": "stdout",
     "output_type": "stream",
     "text": [
      "Merged Dictionary: {'a': 20, 'b': 70, 'c': 50}\n"
     ]
    }
   ],
   "source": [
    "# Write a python function to merge two dictionaries\n",
    "#    Example: d1 = { 'a': 20, 'b': 30 }\n",
    "#             d2 = { 'b': 40, 'c': 50 }\n",
    "#             Output -> { 'a' : 20, 'b':70, 'c' : 50 }\n",
    "#     Merge rules: Numbers -> add\n",
    "#                  Strings -> concatenate\n",
    "\n",
    "def mergeDict(d1, d2):\n",
    "    merge_dict = {} \n",
    "    keys_full = set(d1.keys()).union(set(d2.keys())) \n",
    "\n",
    "    for key in keys_full: \n",
    "        if key in d1 and key in d2: \n",
    "            if isinstance(d1[key], (int, float)) and isinstance(d2[key], (int, float)): \n",
    "                merge_dict[key] = d1[key] + d2[key] \n",
    "            elif isinstance(d1[key], str) and isinstance(d2[key], str): \n",
    "                merge_dict[key] = d1[key] + d2[key] \n",
    "            else:\n",
    "                merge_dict[key] = (d1[key], d2[key]) \n",
    "        elif key in d1: \n",
    "            merge_dict[key] = d1[key] \n",
    "        elif key in d2: merge_dict[key] = d2[key] \n",
    "    return merge_dict \n",
    "d1 = {'a': 20, 'b': 30} \n",
    "d2 = {'b': 40, 'c': 50} \n",
    "result = mergeDict(d1, d2) \n",
    "print(\"Merged Dictionary:\", result)"
   ]
  },
  {
   "cell_type": "code",
   "execution_count": null,
   "metadata": {},
   "outputs": [],
   "source": []
  }
 ],
 "metadata": {
  "kernelspec": {
   "display_name": "Python 3",
   "language": "python",
   "name": "python3"
  },
  "language_info": {
   "codemirror_mode": {
    "name": "ipython",
    "version": 3
   },
   "file_extension": ".py",
   "mimetype": "text/x-python",
   "name": "python",
   "nbconvert_exporter": "python",
   "pygments_lexer": "ipython3",
   "version": "3.13.2"
  }
 },
 "nbformat": 4,
 "nbformat_minor": 2
}
