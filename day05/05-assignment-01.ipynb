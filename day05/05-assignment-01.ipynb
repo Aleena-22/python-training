{
 "cells": [
  {
   "cell_type": "code",
   "execution_count": 1,
   "metadata": {},
   "outputs": [
    {
     "name": "stdout",
     "output_type": "stream",
     "text": [
      "time required is  9.0\n"
     ]
    }
   ],
   "source": [
    "# Write a function to return the time required to double the invested amount and given rate of \n",
    "#    interest\n",
    "\n",
    "\n",
    "def timeRequired(rate_of_interest):\n",
    "    if rate_of_interest <= 0:\n",
    "        print(\"Must be positive\")\n",
    "    return 72 / rate_of_interest\n",
    "\n",
    "rate_of_interest = 8\n",
    "print(\"time required is \", timeRequired(rate_of_interest))"
   ]
  },
  {
   "cell_type": "code",
   "execution_count": 8,
   "metadata": {},
   "outputs": [
    {
     "data": {
      "text/plain": [
       "'4'"
      ]
     },
     "execution_count": 8,
     "metadata": {},
     "output_type": "execute_result"
    }
   ],
   "source": [
    "# Write a function to find the second largest number in the list\n",
    "\n",
    "def secondLargest(input_list):\n",
    "    if len(input_list) < 2:\n",
    "        print(\"give atleast 2 elements\")\n",
    "    input_list.sort(reverse=True)\n",
    "    return input_list[1]\n",
    "\n",
    "input_str = input(\"enter elements\")\n",
    "input_list = input_str.strip().split(\",\")\n",
    "result = secondLargest(input_list)\n",
    "result\n"
   ]
  },
  {
   "cell_type": "code",
   "execution_count": null,
   "metadata": {},
   "outputs": [
    {
     "name": "stdout",
     "output_type": "stream",
     "text": [
      "        *\n",
      "       ***\n",
      "      *****\n",
      "     *******\n",
      "    *********\n",
      "   ***********\n",
      "  *************\n",
      " ***************\n"
     ]
    }
   ],
   "source": [
    "# Write a function to print charecter pyramid\n",
    "#    Example: genPyramic(3, '*')\n",
    "#                  *\n",
    "#                 ***\n",
    "#                *****\n",
    "\n",
    "def genPyramid(n):\n",
    "    for i in range(n):\n",
    "        print(\" \" * (n - i), end=\"\") \n",
    "        print(\"*\" * (2 * i + 1)) \n",
    "\n",
    "n = int(input(\"enter the no.of lines\"))\n",
    "genPyramid(n)"
   ]
  },
  {
   "cell_type": "code",
   "execution_count": 13,
   "metadata": {},
   "outputs": [],
   "source": [
    "def getTime2Double(principal, rate):\n",
    "    amount = principal \n",
    "    years = 0\n",
    "    while amount < principal * 2:\n",
    "       interestAmount = amount * (rate / 100)\n",
    "       amount = amount + interestAmount\n",
    "       years += 1\n",
    "\n",
    "    return years\n"
   ]
  },
  {
   "cell_type": "code",
   "execution_count": 16,
   "metadata": {},
   "outputs": [
    {
     "data": {
      "text/plain": [
       "10"
      ]
     },
     "execution_count": 16,
     "metadata": {},
     "output_type": "execute_result"
    }
   ],
   "source": [
    "getTime2Double(8000, 8)"
   ]
  },
  {
   "cell_type": "code",
   "execution_count": null,
   "metadata": {},
   "outputs": [],
   "source": []
  }
 ],
 "metadata": {
  "kernelspec": {
   "display_name": "Python 3",
   "language": "python",
   "name": "python3"
  },
  "language_info": {
   "codemirror_mode": {
    "name": "ipython",
    "version": 3
   },
   "file_extension": ".py",
   "mimetype": "text/x-python",
   "name": "python",
   "nbconvert_exporter": "python",
   "pygments_lexer": "ipython3",
   "version": "3.13.2"
  }
 },
 "nbformat": 4,
 "nbformat_minor": 2
}
