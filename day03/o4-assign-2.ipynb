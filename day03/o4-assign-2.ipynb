{
 "cells": [
  {
   "cell_type": "code",
   "execution_count": 12,
   "metadata": {},
   "outputs": [
    {
     "data": {
      "text/plain": [
       "15"
      ]
     },
     "execution_count": 12,
     "metadata": {},
     "output_type": "execute_result"
    }
   ],
   "source": [
    "# nums = [1, 2, 3, 4, 5]  \n",
    "# Task: Use a for loop to calculate the sum of all elements in nums.\n",
    "  \n",
    "nums = [1, 2, 3, 4, 5]  \n",
    "sum_list = 0\n",
    "\n",
    "for i in nums:\n",
    "    sum_list = sum_list + i\n",
    "sum_list"
   ]
  },
  {
   "cell_type": "code",
   "execution_count": 8,
   "metadata": {},
   "outputs": [
    {
     "name": "stdout",
     "output_type": "stream",
     "text": [
      "5 4 3 2 1 "
     ]
    }
   ],
   "source": [
    "# count = 5  \n",
    "# Task: Use a while loop to print numbers from count down to 1. \n",
    "\n",
    "count = 5\n",
    "\n",
    "while count > 0:\n",
    "    print(count, end=\" \")\n",
    "    count = count - 1"
   ]
  },
  {
   "cell_type": "code",
   "execution_count": 9,
   "metadata": {},
   "outputs": [
    {
     "data": {
      "text/plain": [
       "['APPLE', 'BANANA', 'CHERRY', 'MANGO']"
      ]
     },
     "execution_count": 9,
     "metadata": {},
     "output_type": "execute_result"
    }
   ],
   "source": [
    "# fruits = [\"Apple\", \"Banana\", \"Cherry\", \"Mango\"]  \n",
    "# Task: Use a for loop to print each fruit in uppercase.  \n",
    "\n",
    "fruits = [\"Apple\", \"Banana\", \"Cherry\", \"Mango\"]  \n",
    "\n",
    "for i in range(len(fruits)):\n",
    "    fruits[i] = fruits[i].upper()\n",
    "fruits"
   ]
  },
  {
   "cell_type": "code",
   "execution_count": 27,
   "metadata": {},
   "outputs": [
    {
     "name": "stdout",
     "output_type": "stream",
     "text": [
      "1 4 9 16 25 36 49 64 81 100 "
     ]
    }
   ],
   "source": [
    "# num = 1  \n",
    "# Task: Use a while loop to print squares of numbers from 1 to 10.  \n",
    "\n",
    "num = 1\n",
    "\n",
    "while num <= 10:\n",
    "    print(num * num, end = \" \")\n",
    "    num = num + 1"
   ]
  },
  {
   "cell_type": "code",
   "execution_count": 28,
   "metadata": {},
   "outputs": [
    {
     "data": {
      "text/plain": [
       "[8, 64, 216, 512, 1000]"
      ]
     },
     "execution_count": 28,
     "metadata": {},
     "output_type": "execute_result"
    }
   ],
   "source": [
    "# values = [2, 4, 6, 8, 10]  \n",
    "# Task: Use a for loop to create a new list containing cubes of values.  \n",
    "\n",
    "values = [2, 4, 6, 8, 10]  \n",
    "cube = []\n",
    "\n",
    "for i in values:\n",
    "    cube.append(i**3)\n",
    "cube\n"
   ]
  },
  {
   "cell_type": "code",
   "execution_count": 31,
   "metadata": {},
   "outputs": [
    {
     "data": {
      "text/plain": [
       "1"
      ]
     },
     "execution_count": 31,
     "metadata": {},
     "output_type": "execute_result"
    }
   ],
   "source": [
    "# sentence = \"Python is fun\"  \n",
    "# Task: Use a for loop to count how many times 'o' appears in sentence.  \n",
    "\n",
    "sentence = \"Python is fun\"  \n",
    "count = 0\n",
    "\n",
    "for i in sentence:\n",
    "    if (i == \"o\"):\n",
    "        count += 1\n",
    "count"
   ]
  },
  {
   "cell_type": "code",
   "execution_count": 1,
   "metadata": {},
   "outputs": [
    {
     "name": "stdout",
     "output_type": "stream",
     "text": [
      "10\n",
      "8\n",
      "6\n",
      "4\n",
      "2\n"
     ]
    }
   ],
   "source": [
    "# num = 10  \n",
    "# Task: Use a while loop to print even numbers from 10 to 2 in reverse order.  \n",
    "\n",
    "num = 10\n",
    "\n",
    "while num > 1:\n",
    "    if (num % 2 == 0):\n",
    "        print(num)\n",
    "    num -= 1"
   ]
  },
  {
   "cell_type": "code",
   "execution_count": 3,
   "metadata": {},
   "outputs": [
    {
     "name": "stdout",
     "output_type": "stream",
     "text": [
      "1 2 3 4 5 6 "
     ]
    }
   ],
   "source": [
    "# matrix = [[1, 2], [3, 4], [5, 6]]  \n",
    "# Task: Use nested for loops to print all elements in matrix.  \n",
    "\n",
    "matrix = [[1, 2], [3, 4], [5, 6]]  \n",
    "\n",
    "for i in matrix:\n",
    "    for j in i:\n",
    "        print(j, end = \" \")"
   ]
  },
  {
   "cell_type": "code",
   "execution_count": 4,
   "metadata": {},
   "outputs": [
    {
     "data": {
      "text/plain": [
       "5040"
      ]
     },
     "execution_count": 4,
     "metadata": {},
     "output_type": "execute_result"
    }
   ],
   "source": [
    "# num = 7  \n",
    "# Task: Use a while loop to find the factorial of num.  \n",
    "\n",
    "num = 7 \n",
    "count = 1\n",
    "\n",
    "while num > 1:\n",
    "    count *= num\n",
    "    num -= 1\n",
    "\n",
    "count\n"
   ]
  },
  {
   "cell_type": "code",
   "execution_count": 6,
   "metadata": {},
   "outputs": [
    {
     "data": {
      "text/plain": [
       "[3, 9, 12, 18, 21]"
      ]
     },
     "execution_count": 6,
     "metadata": {},
     "output_type": "execute_result"
    }
   ],
   "source": [
    "# numbers = [3, 9, 12, 18, 21, 25]  \n",
    "# Task: Use a for loop to print only the numbers divisible by 3.  \n",
    "\n",
    "numbers = [3, 9, 12, 18, 21, 25]  \n",
    "new = []\n",
    "\n",
    "for i in numbers:\n",
    "    if (i % 3 == 0):\n",
    "        new.append(i)\n",
    "new\n"
   ]
  },
  {
   "cell_type": "code",
   "execution_count": 14,
   "metadata": {},
   "outputs": [
    {
     "data": {
      "text/plain": [
       "[2, 3]"
      ]
     },
     "execution_count": 14,
     "metadata": {},
     "output_type": "execute_result"
    }
   ],
   "source": [
    "a = [1,2,3,4,5]\n",
    "b = [2,3,3,6,7,8]\n",
    "c = []\n",
    "\n",
    "for i in a:\n",
    "    for j in b:\n",
    "        if( i == j):\n",
    "            if i not in c:\n",
    "                c.append(i)\n",
    "c"
   ]
  },
  {
   "cell_type": "code",
   "execution_count": 15,
   "metadata": {},
   "outputs": [
    {
     "data": {
      "text/plain": [
       "[1, 2, 3, 4, 5]"
      ]
     },
     "execution_count": 15,
     "metadata": {},
     "output_type": "execute_result"
    }
   ],
   "source": [
    "de = [1,2,2,3,3,3,4,4,5]\n",
    "ef = []\n",
    "\n",
    "for i in de:\n",
    "    if i not in ef:\n",
    "        ef.append(i)\n",
    "ef"
   ]
  },
  {
   "cell_type": "code",
   "execution_count": null,
   "metadata": {},
   "outputs": [],
   "source": []
  }
 ],
 "metadata": {
  "kernelspec": {
   "display_name": "Python 3",
   "language": "python",
   "name": "python3"
  },
  "language_info": {
   "codemirror_mode": {
    "name": "ipython",
    "version": 3
   },
   "file_extension": ".py",
   "mimetype": "text/x-python",
   "name": "python",
   "nbconvert_exporter": "python",
   "pygments_lexer": "ipython3",
   "version": "3.13.2"
  }
 },
 "nbformat": 4,
 "nbformat_minor": 2
}
