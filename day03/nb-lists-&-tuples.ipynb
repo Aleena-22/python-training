{
 "cells": [
  {
   "cell_type": "code",
   "execution_count": 1,
   "id": "9b2af8cc-63dd-4ce2-baa8-e5db2d01a49c",
   "metadata": {},
   "outputs": [],
   "source": [
    "L = [1, 2, 3, 4, \"red\", \"blue\", \"green\",[\"orange\", \"apple\"], int, float]"
   ]
  },
  {
   "cell_type": "code",
   "execution_count": 2,
   "id": "2ac0aefc-62a4-43e4-bc8b-dc0c1304fe74",
   "metadata": {},
   "outputs": [
    {
     "data": {
      "text/plain": [
       "list"
      ]
     },
     "execution_count": 2,
     "metadata": {},
     "output_type": "execute_result"
    }
   ],
   "source": [
    "type(L)"
   ]
  },
  {
   "cell_type": "markdown",
   "id": "dc7eb157-80ae-4df3-ac15-2c66748839ad",
   "metadata": {},
   "source": [
    "### 4.2 Mutability"
   ]
  },
  {
   "cell_type": "code",
   "execution_count": 3,
   "id": "120e9b96-afdd-4c68-90d9-27a8bdfb55e3",
   "metadata": {},
   "outputs": [
    {
     "data": {
      "text/plain": [
       "[1, 2, 3, 4, 'red', 'blue', 'green', ['orange', 'apple'], int, float]"
      ]
     },
     "execution_count": 3,
     "metadata": {},
     "output_type": "execute_result"
    }
   ],
   "source": [
    "L"
   ]
  },
  {
   "cell_type": "code",
   "execution_count": 4,
   "id": "edfd1771-aada-41e6-a2e5-8d7e0cebcbe4",
   "metadata": {},
   "outputs": [
    {
     "data": {
      "text/plain": [
       "['orange', 'apple']"
      ]
     },
     "execution_count": 4,
     "metadata": {},
     "output_type": "execute_result"
    }
   ],
   "source": [
    "L[7]"
   ]
  },
  {
   "cell_type": "code",
   "execution_count": 5,
   "id": "f6c95f47-0fc3-434f-b935-9a3f6548bf05",
   "metadata": {},
   "outputs": [
    {
     "data": {
      "text/plain": [
       "'green'"
      ]
     },
     "execution_count": 5,
     "metadata": {},
     "output_type": "execute_result"
    }
   ],
   "source": [
    "L[6] \n"
   ]
  },
  {
   "cell_type": "code",
   "execution_count": 6,
   "id": "ae9e9e5e-d998-4c1b-ac20-b4632d65672b",
   "metadata": {},
   "outputs": [],
   "source": [
    "L[6] = \"ash\""
   ]
  },
  {
   "cell_type": "code",
   "execution_count": 7,
   "id": "c0328b21-5379-4066-8906-270b12734fc4",
   "metadata": {},
   "outputs": [
    {
     "ename": "NameError",
     "evalue": "name 'l' is not defined",
     "output_type": "error",
     "traceback": [
      "\u001b[1;31m---------------------------------------------------------------------------\u001b[0m",
      "\u001b[1;31mNameError\u001b[0m                                 Traceback (most recent call last)",
      "Cell \u001b[1;32mIn[7], line 1\u001b[0m\n\u001b[1;32m----> 1\u001b[0m l[\u001b[38;5;241m6\u001b[39m]\n",
      "\u001b[1;31mNameError\u001b[0m: name 'l' is not defined"
     ]
    }
   ],
   "source": [
    "l[6]"
   ]
  },
  {
   "cell_type": "code",
   "execution_count": 9,
   "id": "32db4d58-e50d-4975-a79b-67ac4a68ba03",
   "metadata": {},
   "outputs": [
    {
     "data": {
      "text/plain": [
       "'ash'"
      ]
     },
     "execution_count": 9,
     "metadata": {},
     "output_type": "execute_result"
    }
   ],
   "source": [
    "L[6]"
   ]
  },
  {
   "cell_type": "code",
   "execution_count": 10,
   "id": "e24c5a5b-7a36-4f66-9873-2da1ff1fd7e3",
   "metadata": {},
   "outputs": [
    {
     "data": {
      "text/plain": [
       "[1, 3, 'red', 'ash', int]"
      ]
     },
     "execution_count": 10,
     "metadata": {},
     "output_type": "execute_result"
    }
   ],
   "source": [
    "L[::2]"
   ]
  },
  {
   "cell_type": "markdown",
   "id": "e9653ab5-1ff8-44ea-8b1f-f746658b0886",
   "metadata": {},
   "source": [
    "### 4.3 OPERATORS"
   ]
  },
  {
   "cell_type": "code",
   "execution_count": 11,
   "id": "e276e8ed-8b65-4c4b-abb8-f9f0f9df6d14",
   "metadata": {},
   "outputs": [
    {
     "data": {
      "text/plain": [
       "True"
      ]
     },
     "execution_count": 11,
     "metadata": {},
     "output_type": "execute_result"
    }
   ],
   "source": [
    "isinstance(L, list)"
   ]
  },
  {
   "cell_type": "markdown",
   "id": "0e2488db-8a9c-4164-a785-ae6a5b981bde",
   "metadata": {},
   "source": [
    "### 4.4 Adding elements into list"
   ]
  },
  {
   "cell_type": "code",
   "execution_count": 12,
   "id": "867c2487-730c-4369-809e-7e921ab11223",
   "metadata": {},
   "outputs": [],
   "source": [
    "l = [\"red\", \"blue\" , \"green\"]"
   ]
  },
  {
   "cell_type": "code",
   "execution_count": 13,
   "id": "1190e6b0-8086-4b14-9055-ab6506b0999c",
   "metadata": {},
   "outputs": [],
   "source": [
    "l.append(\"orange\")"
   ]
  },
  {
   "cell_type": "code",
   "execution_count": 14,
   "id": "20f98d80-00ca-4c88-bdaa-050202dd5bb0",
   "metadata": {},
   "outputs": [
    {
     "data": {
      "text/plain": [
       "['red', 'blue', 'green', 'orange']"
      ]
     },
     "execution_count": 14,
     "metadata": {},
     "output_type": "execute_result"
    }
   ],
   "source": [
    "l"
   ]
  },
  {
   "cell_type": "code",
   "execution_count": 16,
   "id": "daffcaba-1ccc-450f-97eb-bc19005b0121",
   "metadata": {},
   "outputs": [],
   "source": [
    "l.insert(10, \"pink\")"
   ]
  },
  {
   "cell_type": "code",
   "execution_count": 17,
   "id": "90225d5f-aab1-4359-b2b8-a34938319358",
   "metadata": {},
   "outputs": [
    {
     "data": {
      "text/plain": [
       "['red', 'blue', 'green', 'orange', 'pink']"
      ]
     },
     "execution_count": 17,
     "metadata": {},
     "output_type": "execute_result"
    }
   ],
   "source": [
    "l"
   ]
  },
  {
   "cell_type": "code",
   "execution_count": 18,
   "id": "9c037da1-e251-468c-bc04-ce7019ab74dd",
   "metadata": {},
   "outputs": [
    {
     "data": {
      "text/plain": [
       "1"
      ]
     },
     "execution_count": 18,
     "metadata": {},
     "output_type": "execute_result"
    }
   ],
   "source": [
    "l.index(\"blue\")"
   ]
  },
  {
   "cell_type": "code",
   "execution_count": 19,
   "id": "25883917-023b-429c-a9b1-f6787d7c4255",
   "metadata": {},
   "outputs": [
    {
     "ename": "ValueError",
     "evalue": "'black' is not in list",
     "output_type": "error",
     "traceback": [
      "\u001b[1;31m---------------------------------------------------------------------------\u001b[0m",
      "\u001b[1;31mValueError\u001b[0m                                Traceback (most recent call last)",
      "Cell \u001b[1;32mIn[19], line 1\u001b[0m\n\u001b[1;32m----> 1\u001b[0m l\u001b[38;5;241m.\u001b[39mindex(\u001b[38;5;124m\"\u001b[39m\u001b[38;5;124mblack\u001b[39m\u001b[38;5;124m\"\u001b[39m)\n",
      "\u001b[1;31mValueError\u001b[0m: 'black' is not in list"
     ]
    }
   ],
   "source": [
    "l.index(\"black\")"
   ]
  },
  {
   "cell_type": "code",
   "execution_count": 20,
   "id": "b94044db-2da0-4316-8de7-ac7d0dfbe0c3",
   "metadata": {},
   "outputs": [
    {
     "ename": "NameError",
     "evalue": "name 'reveresed' is not defined",
     "output_type": "error",
     "traceback": [
      "\u001b[1;31m---------------------------------------------------------------------------\u001b[0m",
      "\u001b[1;31mNameError\u001b[0m                                 Traceback (most recent call last)",
      "Cell \u001b[1;32mIn[20], line 1\u001b[0m\n\u001b[1;32m----> 1\u001b[0m \u001b[38;5;28mlist\u001b[39m(reveresed(l))\n",
      "\u001b[1;31mNameError\u001b[0m: name 'reveresed' is not defined"
     ]
    }
   ],
   "source": [
    "list(reveresed(l))"
   ]
  },
  {
   "cell_type": "code",
   "execution_count": 21,
   "id": "288ef62c-2af7-4c7e-8b29-19db25cb5443",
   "metadata": {},
   "outputs": [
    {
     "data": {
      "text/plain": [
       "['pink', 'orange', 'green', 'blue', 'red']"
      ]
     },
     "execution_count": 21,
     "metadata": {},
     "output_type": "execute_result"
    }
   ],
   "source": [
    "list(reversed(l))"
   ]
  },
  {
   "cell_type": "code",
   "execution_count": 22,
   "id": "a6fb7a08-8643-4f24-bc3e-75a51e663fa2",
   "metadata": {},
   "outputs": [
    {
     "data": {
      "text/plain": [
       "['blue', 'green', 'orange', 'pink', 'red']"
      ]
     },
     "execution_count": 22,
     "metadata": {},
     "output_type": "execute_result"
    }
   ],
   "source": [
    "sorted(l)"
   ]
  },
  {
   "cell_type": "code",
   "execution_count": 23,
   "id": "d95f6912-632f-4370-b221-66f7b657c857",
   "metadata": {},
   "outputs": [
    {
     "data": {
      "text/plain": [
       "['red', 'pink', 'orange', 'green', 'blue']"
      ]
     },
     "execution_count": 23,
     "metadata": {},
     "output_type": "execute_result"
    }
   ],
   "source": [
    "sorted(l, reverse=True)"
   ]
  },
  {
   "cell_type": "code",
   "execution_count": 24,
   "id": "c05934a5-0b8c-4d03-a4e6-86a2c5d62867",
   "metadata": {},
   "outputs": [],
   "source": [
    "l.sort()"
   ]
  },
  {
   "cell_type": "code",
   "execution_count": 25,
   "id": "1969f72c-e5d6-47e8-87d8-4d9f60225eca",
   "metadata": {},
   "outputs": [
    {
     "data": {
      "text/plain": [
       "['blue', 'green', 'orange', 'pink', 'red']"
      ]
     },
     "execution_count": 25,
     "metadata": {},
     "output_type": "execute_result"
    }
   ],
   "source": [
    "l"
   ]
  },
  {
   "cell_type": "code",
   "execution_count": 27,
   "id": "578c9afe-72de-4884-92aa-ed4a2e9874cf",
   "metadata": {},
   "outputs": [],
   "source": [
    "l.reverse()"
   ]
  },
  {
   "cell_type": "code",
   "execution_count": 28,
   "id": "32cab96a-8182-4372-83db-996481127ccd",
   "metadata": {},
   "outputs": [
    {
     "data": {
      "text/plain": [
       "['red', 'pink', 'orange', 'green', 'blue']"
      ]
     },
     "execution_count": 28,
     "metadata": {},
     "output_type": "execute_result"
    }
   ],
   "source": [
    "l"
   ]
  },
  {
   "cell_type": "code",
   "execution_count": 2,
   "id": "514a79bf-7a75-4407-9f1e-505a08bda16b",
   "metadata": {},
   "outputs": [
    {
     "data": {
      "text/plain": [
       "('ash', 'blue', 'red')"
      ]
     },
     "execution_count": 2,
     "metadata": {},
     "output_type": "execute_result"
    }
   ],
   "source": [
    "t = (\"red\", \"blue\", \"ash\")\n",
    "tuple(reversed(t))"
   ]
  },
  {
   "cell_type": "markdown",
   "id": "e7582e8b",
   "metadata": {},
   "source": []
  },
  {
   "cell_type": "code",
   "execution_count": 3,
   "id": "7c56b84a",
   "metadata": {},
   "outputs": [
    {
     "ename": "AttributeError",
     "evalue": "'tuple' object has no attribute 'sort'",
     "output_type": "error",
     "traceback": [
      "\u001b[31m---------------------------------------------------------------------------\u001b[39m",
      "\u001b[31mAttributeError\u001b[39m                            Traceback (most recent call last)",
      "\u001b[36mCell\u001b[39m\u001b[36m \u001b[39m\u001b[32mIn[3]\u001b[39m\u001b[32m, line 1\u001b[39m\n\u001b[32m----> \u001b[39m\u001b[32m1\u001b[39m \u001b[43mt\u001b[49m\u001b[43m.\u001b[49m\u001b[43msort\u001b[49m()\n",
      "\u001b[31mAttributeError\u001b[39m: 'tuple' object has no attribute 'sort'"
     ]
    }
   ],
   "source": [
    "t.sort()"
   ]
  },
  {
   "cell_type": "markdown",
   "id": "9313cedf",
   "metadata": {},
   "source": [
    "### Packing and unpacking"
   ]
  },
  {
   "cell_type": "code",
   "execution_count": 5,
   "id": "bbbcf39f",
   "metadata": {},
   "outputs": [
    {
     "data": {
      "text/plain": [
       "['ash', 'blue', 'red']"
      ]
     },
     "execution_count": 5,
     "metadata": {},
     "output_type": "execute_result"
    }
   ],
   "source": [
    "temp = list(t)\n",
    "temp.sort()\n",
    "temp"
   ]
  },
  {
   "cell_type": "markdown",
   "id": "7bc73420",
   "metadata": {},
   "source": [
    "temp = list()"
   ]
  },
  {
   "cell_type": "code",
   "execution_count": 6,
   "id": "e8bad0b4",
   "metadata": {},
   "outputs": [
    {
     "data": {
      "text/plain": [
       "('ash', 'blue', 'red')"
      ]
     },
     "execution_count": 6,
     "metadata": {},
     "output_type": "execute_result"
    }
   ],
   "source": [
    "t = tuple(temp)\n",
    "t"
   ]
  },
  {
   "cell_type": "markdown",
   "id": "91c1af96",
   "metadata": {
    "vscode": {
     "languageId": "bat"
    }
   },
   "source": [
    "### unpacking"
   ]
  },
  {
   "cell_type": "markdown",
   "id": "166c0f96",
   "metadata": {},
   "source": []
  },
  {
   "cell_type": "code",
   "execution_count": 7,
   "id": "f56caf6c",
   "metadata": {},
   "outputs": [],
   "source": [
    "r, g, *x = t"
   ]
  },
  {
   "cell_type": "code",
   "execution_count": 8,
   "id": "f5356b61",
   "metadata": {},
   "outputs": [
    {
     "data": {
      "text/plain": [
       "('ash', 'blue', 'red')"
      ]
     },
     "execution_count": 8,
     "metadata": {},
     "output_type": "execute_result"
    }
   ],
   "source": [
    "t"
   ]
  },
  {
   "cell_type": "markdown",
   "id": "3d16746c",
   "metadata": {},
   "source": [
    "### For and while loop"
   ]
  },
  {
   "cell_type": "code",
   "execution_count": 9,
   "id": "5998cbed",
   "metadata": {},
   "outputs": [],
   "source": [
    "l = [1,2,3,4,0,-1,-2]"
   ]
  },
  {
   "cell_type": "code",
   "execution_count": 10,
   "id": "83804813",
   "metadata": {},
   "outputs": [
    {
     "data": {
      "text/plain": [
       "7"
      ]
     },
     "execution_count": 10,
     "metadata": {},
     "output_type": "execute_result"
    }
   ],
   "source": [
    "sum(l)"
   ]
  },
  {
   "cell_type": "code",
   "execution_count": 11,
   "id": "b5738f3a",
   "metadata": {},
   "outputs": [
    {
     "data": {
      "text/plain": [
       "True"
      ]
     },
     "execution_count": 11,
     "metadata": {},
     "output_type": "execute_result"
    }
   ],
   "source": [
    "any(l)"
   ]
  },
  {
   "cell_type": "code",
   "execution_count": 12,
   "id": "ce9253e7",
   "metadata": {},
   "outputs": [
    {
     "data": {
      "text/plain": [
       "False"
      ]
     },
     "execution_count": 12,
     "metadata": {},
     "output_type": "execute_result"
    }
   ],
   "source": [
    "\n",
    "all(l)"
   ]
  },
  {
   "cell_type": "code",
   "execution_count": 13,
   "id": "a93bf4f2",
   "metadata": {},
   "outputs": [
    {
     "data": {
      "text/plain": [
       "[(0, 'red'), (1, 'blue')]"
      ]
     },
     "execution_count": 13,
     "metadata": {},
     "output_type": "execute_result"
    }
   ],
   "source": [
    "L = [\"red\", \"blue\"]\n",
    "list(enumerate(L))"
   ]
  },
  {
   "cell_type": "code",
   "execution_count": null,
   "id": "8f7f35ac",
   "metadata": {},
   "outputs": [],
   "source": []
  }
 ],
 "metadata": {
  "kernelspec": {
   "display_name": "Python 3",
   "language": "python",
   "name": "python3"
  },
  "language_info": {
   "codemirror_mode": {
    "name": "ipython",
    "version": 3
   },
   "file_extension": ".py",
   "mimetype": "text/x-python",
   "name": "python",
   "nbconvert_exporter": "python",
   "pygments_lexer": "ipython3",
   "version": "3.13.2"
  }
 },
 "nbformat": 4,
 "nbformat_minor": 5
}
