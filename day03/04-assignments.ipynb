{
 "cells": [
  {
   "cell_type": "code",
   "execution_count": 2,
   "metadata": {},
   "outputs": [
    {
     "data": {
      "text/plain": [
       "['Apple', 'Banana', 'Grapes', 'Cherry', 'Mango']"
      ]
     },
     "execution_count": 2,
     "metadata": {},
     "output_type": "execute_result"
    }
   ],
   "source": [
    "## basket = [\"Apple\", \"Banana\", \"Cherry\", \"Mango\"]  \n",
    "## Task: Insert \"Grapes\" between \"Banana\" and \"Cherry\".  \n",
    "\n",
    "basket = [\"Apple\", \"Banana\", \"Cherry\", \"Mango\"]  \n",
    "basket.insert(2,\"Grapes\")\n",
    "basket"
   ]
  },
  {
   "cell_type": "code",
   "execution_count": 4,
   "metadata": {},
   "outputs": [
    {
     "data": {
      "text/plain": [
       "[10, 20, [30, 45, 50], 60, 70]"
      ]
     },
     "execution_count": 4,
     "metadata": {},
     "output_type": "execute_result"
    }
   ],
   "source": [
    "## data = [10, 20, [30, 40, 50], 60, 70]  \n",
    "## Task: Change 40 to 45 inside the nested list.  \n",
    "\n",
    "data = [10, 20, [30, 40, 50], 60, 70] \n",
    "data[2][1] = 45\n",
    "data"
   ]
  },
  {
   "cell_type": "code",
   "execution_count": 6,
   "metadata": {},
   "outputs": [
    {
     "data": {
      "text/plain": [
       "[3, 6, 9, 12, 15, 18, 21]"
      ]
     },
     "execution_count": 6,
     "metadata": {},
     "output_type": "execute_result"
    }
   ],
   "source": [
    "## nums = [3, 6, 9, 12, 15, 18, 21]  \n",
    "## Task: Extract [9, 12, 15] and reverse it. \n",
    "\n",
    "nums = [3, 6, 9, 12, 15, 18, 21] \n",
    "nums[2:5].reverse()\n",
    "nums"
   ]
  },
  {
   "cell_type": "code",
   "execution_count": 9,
   "metadata": {},
   "outputs": [
    {
     "data": {
      "text/plain": [
       "[3, 8, 10, 12]"
      ]
     },
     "execution_count": 9,
     "metadata": {},
     "output_type": "execute_result"
    }
   ],
   "source": [
    "## numbers = [5, 3, 8, 5, 10, 5, 12, 5]  \n",
    "##  Task: Remove all occurrences of 5 from numbers.  \n",
    "\n",
    "numbers = [5, 3, 8, 5, 10, 5, 12, 5]  \n",
    "\n",
    "for i in numbers:\n",
    "    if i == 5:\n",
    "        numbers.remove(5)\n",
    "numbers"
   ]
  },
  {
   "cell_type": "markdown",
   "metadata": {},
   "source": []
  },
  {
   "cell_type": "code",
   "execution_count": 18,
   "metadata": {},
   "outputs": [
    {
     "data": {
      "text/plain": [
       "[1, 2, 3, 4, 6, 7, 8, 9]"
      ]
     },
     "execution_count": 18,
     "metadata": {},
     "output_type": "execute_result"
    }
   ],
   "source": [
    "# list1 = [8, 3, 1, 7]  \n",
    "# list2 = [4, 9, 2, 6]  \n",
    "# Task: Merge list1 and list2, then sort the combined list.  \n",
    "\n",
    "list1 = [8, 3, 1, 7]  \n",
    "list2 = [4, 9, 2, 6] \n",
    "\n",
    "list_new = list1 + list2\n",
    "list_new.sort()\n",
    "list_new"
   ]
  },
  {
   "cell_type": "code",
   "execution_count": 20,
   "metadata": {},
   "outputs": [],
   "source": [
    "del list  # Deletes the variable 'list' from the current scope\n"
   ]
  },
  {
   "cell_type": "code",
   "execution_count": 21,
   "metadata": {},
   "outputs": [
    {
     "data": {
      "text/plain": [
       "('Red', 'Cyan', 'Blue', 'Yellow')"
      ]
     },
     "execution_count": 21,
     "metadata": {},
     "output_type": "execute_result"
    }
   ],
   "source": [
    "# colors = (\"Red\", \"Green\", \"Blue\", \"Yellow\")  \n",
    "# Task: Convert colors to a list, change \"Green\" to \"Cyan\", and convert it back to a tuple. \n",
    "\n",
    "colors = (\"Red\", \"Green\", \"Blue\", \"Yellow\")  \n",
    "temp = list(colors)\n",
    "temp[1] = \"Cyan\"\n",
    "colors = tuple(temp)\n",
    "colors"
   ]
  },
  {
   "cell_type": "code",
   "execution_count": 22,
   "metadata": {},
   "outputs": [
    {
     "data": {
      "text/plain": [
       "2"
      ]
     },
     "execution_count": 22,
     "metadata": {},
     "output_type": "execute_result"
    }
   ],
   "source": [
    "# names = [\"Alice\", \"Bob\", \"Charlie\", \"David\", \"Eve\"]  \n",
    "# Task: Find the index of \"Charlie\".  \n",
    "\n",
    "names = [\"Alice\", \"Bob\", \"Charlie\", \"David\", \"Eve\"]  \n",
    "names.index(\"Charlie\")"
   ]
  },
  {
   "cell_type": "code",
   "execution_count": 24,
   "metadata": {},
   "outputs": [
    {
     "data": {
      "text/plain": [
       "4"
      ]
     },
     "execution_count": 24,
     "metadata": {},
     "output_type": "execute_result"
    }
   ],
   "source": [
    "# nums_tuple = (4, 2, 4, 6, 4, 8, 4, 10)  \n",
    "# Task: Count how many times 4 appears in nums_tuple.  \n",
    "\n",
    "nums_tuple = (4, 2, 4, 6, 4, 8, 4, 10)  \n",
    "nums_tuple.count(4)"
   ]
  },
  {
   "cell_type": "code",
   "execution_count": 34,
   "metadata": {},
   "outputs": [
    {
     "data": {
      "text/plain": [
       "[50, 20, 30, 40, 10]"
      ]
     },
     "execution_count": 34,
     "metadata": {},
     "output_type": "execute_result"
    }
   ],
   "source": [
    "# values = [10, 20, 30, 40, 50]  \n",
    "# Task: Swap the first and last elements.  \n",
    "\n",
    "values = [10, 20, 30, 40, 50]  \n",
    "temp = values[0]\n",
    "values[0] = values[-1]\n",
    "values[-1] = temp\n",
    "values"
   ]
  },
  {
   "cell_type": "code",
   "execution_count": 30,
   "metadata": {},
   "outputs": [
    {
     "data": {
      "text/plain": [
       "[1, 4, 9, 16, 25, 36, 49, 64, 81, 100]"
      ]
     },
     "execution_count": 30,
     "metadata": {},
     "output_type": "execute_result"
    }
   ],
   "source": [
    "# values = []\n",
    "# Task: Generate a list of squares for numbers from 1 to 10.  \n",
    "\n",
    "values = []\n",
    "for i in range (1, 11):\n",
    "    values.append(i * i)\n",
    "values"
   ]
  },
  {
   "cell_type": "code",
   "execution_count": 37,
   "metadata": {},
   "outputs": [
    {
     "data": {
      "text/plain": [
       "(5, 4, 3, 2, 1)"
      ]
     },
     "execution_count": 37,
     "metadata": {},
     "output_type": "execute_result"
    }
   ],
   "source": [
    "# my_tuple = (1, 2, 3, 4, 5)  \n",
    "# Task: Reverse my_tuple without converting it to a list.  \n",
    "\n",
    "my_tuple = (1, 2, 3, 4, 5)  \n",
    "tuple(reversed(my_tuple))"
   ]
  },
  {
   "cell_type": "code",
   "execution_count": 42,
   "metadata": {},
   "outputs": [
    {
     "name": "stdout",
     "output_type": "stream",
     "text": [
      "12 89\n"
     ]
    }
   ],
   "source": [
    "# data = [23, 45, 67, 12, 89, 34]  \n",
    "# Task: Find the maximum and minimum values in data.  \n",
    "\n",
    "data = [23, 45, 67, 12, 89, 34]  \n",
    "data.sort()\n",
    "print(data[0], data[-1])"
   ]
  },
  {
   "cell_type": "code",
   "execution_count": 43,
   "metadata": {},
   "outputs": [
    {
     "data": {
      "text/plain": [
       "[10, 30, 50, 70]"
      ]
     },
     "execution_count": 43,
     "metadata": {},
     "output_type": "execute_result"
    }
   ],
   "source": [
    "# nums = [10, 20, 30, 40, 50, 60, 70]  \n",
    "# Task: Extract every second element from nums.  \n",
    "\n",
    "nums = [10, 20, 30, 40, 50, 60, 70] \n",
    "nums[::2]"
   ]
  },
  {
   "cell_type": "code",
   "execution_count": 44,
   "metadata": {},
   "outputs": [
    {
     "data": {
      "text/plain": [
       "[1, 2, 3, 4, 5, 6, 7, 8, 9]"
      ]
     },
     "execution_count": 44,
     "metadata": {},
     "output_type": "execute_result"
    }
   ],
   "source": [
    "# nested_list = [[1, 2, 3], [4, 5, 6], [7, 8, 9]]  \n",
    "# Task: Convert nested_list into a single flat list.  \n",
    "\n",
    "nested_list = [[1, 2, 3], [4, 5, 6], [7, 8, 9]]  \n",
    "new_one = nested_list[0] + nested_list[1] + nested_list[2]\n",
    "new_one"
   ]
  },
  {
   "cell_type": "code",
   "execution_count": 55,
   "metadata": {},
   "outputs": [
    {
     "name": "stdout",
     "output_type": "stream",
     "text": [
      "4,5,6,"
     ]
    }
   ],
   "source": [
    "# list_a = [1, 2, 3, 4, 5, 6]  \n",
    "# list_b = [4, 5, 6, 7, 8, 9]  \n",
    "# Task: Find common elements between list_a and list_b.  \n",
    "\n",
    "list_a = [1, 2, 3, 4, 5, 6]  \n",
    "list_b = [4, 5, 6, 7, 8, 9]  \n",
    "\n",
    "for i in list_a:\n",
    "    for j in list_b:\n",
    "        if(i == j):\n",
    "            print(i, end = ',')"
   ]
  },
  {
   "cell_type": "code",
   "execution_count": 45,
   "metadata": {},
   "outputs": [
    {
     "data": {
      "text/plain": [
       "[92, 88, 78, 62, 55, 30]"
      ]
     },
     "execution_count": 45,
     "metadata": {},
     "output_type": "execute_result"
    }
   ],
   "source": [
    "# scores = [78, 55, 92, 30, 88, 62]  \n",
    "# Task: Sort scores in descending order.  \n",
    "\n",
    "scores = [78, 55, 92, 30, 88, 62]  \n",
    "scores.sort(reverse=True)\n",
    "scores"
   ]
  },
  {
   "cell_type": "code",
   "execution_count": 47,
   "metadata": {},
   "outputs": [
    {
     "data": {
      "text/plain": [
       "(1, 2, 3, 1, 2, 3, 1, 2, 3)"
      ]
     },
     "execution_count": 47,
     "metadata": {},
     "output_type": "execute_result"
    }
   ],
   "source": [
    "# my_tuple = (1, 2, 3)  \n",
    "# Task: Repeat my_tuple three times and store the result.  \n",
    "\n",
    "my_tuple = (1, 2, 3)  \n",
    "my_new = my_tuple * 3\n",
    "my_new"
   ]
  },
  {
   "cell_type": "code",
   "execution_count": 52,
   "metadata": {},
   "outputs": [
    {
     "data": {
      "text/plain": [
       "[1, 2, 3, 4, 5, 6]"
      ]
     },
     "execution_count": 52,
     "metadata": {},
     "output_type": "execute_result"
    }
   ],
   "source": [
    "# numbers = [1, 2, 2, 3, 4, 4, 5, 6, 6]  \n",
    "# Task: Remove duplicates while keeping the order.  \n",
    "\n",
    "numbers = [1, 2, 2, 3, 4, 4, 5, 6, 6]  \n",
    "\n",
    "for i in numbers:\n",
    "    a = numbers.count(i)\n",
    "    if a>1:\n",
    "        numbers.remove(i)\n",
    "numbers"
   ]
  },
  {
   "cell_type": "code",
   "execution_count": 48,
   "metadata": {},
   "outputs": [
    {
     "data": {
      "text/plain": [
       "['Hello', 'World', 'Amazing', 'Python', 'Programming']"
      ]
     },
     "execution_count": 48,
     "metadata": {},
     "output_type": "execute_result"
    }
   ],
   "source": [
    "# words = [\"Hello\", \"World\", \"Python\", \"Programming\"]  \n",
    "# Task: Insert \"Amazing\" at index 2.  \n",
    "\n",
    "words = [\"Hello\", \"World\", \"Python\", \"Programming\"]  \n",
    "words.insert(2,\"Amazing\")\n",
    "words"
   ]
  },
  {
   "cell_type": "code",
   "execution_count": 49,
   "metadata": {},
   "outputs": [
    {
     "data": {
      "text/plain": [
       "{'a': 1, 'b': 2, 'c': 3}"
      ]
     },
     "execution_count": 49,
     "metadata": {},
     "output_type": "execute_result"
    }
   ],
   "source": [
    "# pairs = [(\"a\", 1), (\"b\", 2), (\"c\", 3)]  \n",
    "# Task: Convert pairs into a dictionary.  \n",
    "\n",
    "pairs = [(\"a\", 1), (\"b\", 2), (\"c\", 3)]  \n",
    "dict(pairs)"
   ]
  },
  {
   "cell_type": "code",
   "execution_count": null,
   "metadata": {},
   "outputs": [],
   "source": []
  }
 ],
 "metadata": {
  "kernelspec": {
   "display_name": "Python 3",
   "language": "python",
   "name": "python3"
  },
  "language_info": {
   "codemirror_mode": {
    "name": "ipython",
    "version": 3
   },
   "file_extension": ".py",
   "mimetype": "text/x-python",
   "name": "python",
   "nbconvert_exporter": "python",
   "pygments_lexer": "ipython3",
   "version": "3.13.2"
  }
 },
 "nbformat": 4,
 "nbformat_minor": 2
}
