{
 "cells": [
  {
   "cell_type": "code",
   "execution_count": 9,
   "metadata": {},
   "outputs": [
    {
     "name": "stdout",
     "output_type": "stream",
     "text": [
      "{'apple': 3, 'banana': 2, 'orange': 1}\n"
     ]
    }
   ],
   "source": [
    "# 1. Count Word Frequency in a Sentence  \n",
    "# Task: Given a sentence, count the occurrences of each word using a dictionary.  \n",
    "# Example:  \n",
    "# sentence = \"apple banana apple orange banana apple\"  \n",
    "# Output: {'apple': 3, 'banana': 2, 'orange': 1} \n",
    "\n",
    "sentence = \"apple banana apple orange banana apple\"  \n",
    "new_sent = (sentence.split())\n",
    "count = {}\n",
    "\n",
    "for i in new_sent:\n",
    "    if i in count.keys():\n",
    "        count[i] += 1\n",
    "    else:\n",
    "        count[i] = 1\n",
    "print(count)\n"
   ]
  },
  {
   "cell_type": "code",
   "execution_count": 6,
   "metadata": {},
   "outputs": [
    {
     "name": "stdout",
     "output_type": "stream",
     "text": [
      "unique in list_1:  {1, 2}\n",
      "unique in list_2:  {5, 6}\n"
     ]
    }
   ],
   "source": [
    "# 2. Find Unique Elements in Two Lists Using Sets  \n",
    "# Task: Given two lists, find the elements that are unique to each list using sets.  \n",
    "# Example:  \n",
    "# list1 = {1, 2, 3, 4}  \n",
    "# list2 = {3, 4, 5, 6}  \n",
    "# Output: Unique in list1: {1, 2}, Unique in list2: {5, 6}  \n",
    "\n",
    "list1 = {1, 2, 3, 4}  \n",
    "list2 = {3, 4, 5, 6}  \n",
    "\n",
    "print(\"unique in list_1: \", list1 - list2 )\n",
    "print(\"unique in list_2: \", list2 - list1 )\n"
   ]
  },
  {
   "cell_type": "code",
   "execution_count": 6,
   "metadata": {},
   "outputs": [
    {
     "data": {
      "text/plain": [
       "{'a': 10, 'b': 50, 'c': 40}"
      ]
     },
     "execution_count": 6,
     "metadata": {},
     "output_type": "execute_result"
    }
   ],
   "source": [
    "# 3. Merge Two Dictionaries  \n",
    "# Task: Merge two dictionaries and sum the values of common keys.  \n",
    "# Example:  \n",
    "# dict1 = {'a': 10, 'b': 20}  \n",
    "# dict2 = {'b': 30, 'c': 40}  \n",
    "# Output: {'a': 10, 'b': 50, 'c': 40}  \n",
    "\n",
    "dict1 = {'a': 10, 'b': 20}  \n",
    "dict2 = {'b': 30, 'c': 40}  \n",
    "\n",
    "d = dict1.copy()\n",
    "for k,v in dict2.items():\n",
    "    d[k] = d.get(k, 0) + v\n",
    "\n",
    "d\n"
   ]
  },
  {
   "cell_type": "code",
   "execution_count": 11,
   "metadata": {},
   "outputs": [
    {
     "data": {
      "text/plain": [
       "{3, 4}"
      ]
     },
     "execution_count": 11,
     "metadata": {},
     "output_type": "execute_result"
    }
   ],
   "source": [
    "# 4. Find the Intersection of Two Sets  \n",
    "# Task: Given two sets, find the common elements.  \n",
    "# Example:  \n",
    "# set1 = {1, 2, 3, 4}  \n",
    "# set2 = {3, 4, 5, 6}  \n",
    "# Output: {3, 4}  \n",
    "\n",
    "set1 = {1, 2, 3, 4}  \n",
    "set2 = {3, 4, 5, 6}  \n",
    "\n",
    "set = set1 & set2\n",
    "set"
   ]
  },
  {
   "cell_type": "code",
   "execution_count": 2,
   "metadata": {},
   "outputs": [
    {
     "name": "stdout",
     "output_type": "stream",
     "text": [
      "3\n"
     ]
    }
   ],
   "source": [
    "# 5. Find the Most Frequent Element in a List  \n",
    "# Task: Given a list, find the element that appears the most times.  \n",
    "# Example:  \n",
    "# numbers = [1, 3, 2, 3, 4, 3, 5, 2, 1, 3]  \n",
    "# Output: Most frequent: 3 (appears 4 times)  \n",
    "\n",
    "numbers = [1, 3, 2, 3, 4, 3, 5, 2, 1, 3] \n",
    "count = {}\n",
    "\n",
    "for i in numbers:\n",
    "    if i in count.keys():\n",
    "        count[i] += 1\n",
    "    else:\n",
    "        count[i] = 1\n",
    "max_el = max(count, key=count.get)\n",
    "print(max_el)\n"
   ]
  },
  {
   "cell_type": "code",
   "execution_count": 7,
   "metadata": {},
   "outputs": [
    {
     "data": {
      "text/plain": [
       "{1, 2, 3, 4, 5, 6}"
      ]
     },
     "execution_count": 7,
     "metadata": {},
     "output_type": "execute_result"
    }
   ],
   "source": [
    "# 6. Remove Duplicates from a List Using Sets  \n",
    "# Task: Remove duplicates from a list while maintaining order.  \n",
    "# Example:  \n",
    "# lst = [1, 2, 2, 3, 4, 4, 5, 6, 6, 6]  \n",
    "# Output: [1, 2, 3, 4, 5, 6]  \n",
    "\n",
    "lst = [1, 2, 2, 3, 4, 4, 5, 6, 6, 6]  \n",
    "set_new = set(lst)\n",
    "set_new\n",
    "\n"
   ]
  },
  {
   "cell_type": "code",
   "execution_count": 3,
   "metadata": {},
   "outputs": [
    {
     "data": {
      "text/plain": [
       "{'Bob', 'Charlie'}"
      ]
     },
     "execution_count": 3,
     "metadata": {},
     "output_type": "execute_result"
    }
   ],
   "source": [
    "# 7. Find Students Who Enrolled in Both Courses  \n",
    "# Task: Given two sets of students, find those who are enrolled in both courses.  \n",
    "# Example:  \n",
    "# course_A = {\"Alice\", \"Bob\", \"Charlie\"}  \n",
    "# course_B = {\"Bob\", \"David\", \"Charlie\"}  \n",
    "# Output: {\"Bob\", \"Charlie\"}  \n",
    "\n",
    "course_A = {\"Alice\", \"Bob\", \"Charlie\"}  \n",
    "course_B = {\"Bob\", \"David\", \"Charlie\"}  \n",
    "\n",
    "course = course_A & course_B\n",
    "course\n"
   ]
  },
  {
   "cell_type": "code",
   "execution_count": 4,
   "metadata": {},
   "outputs": [
    {
     "data": {
      "text/plain": [
       "{1, 2, 3, 4, 5, 6, 7}"
      ]
     },
     "execution_count": 4,
     "metadata": {},
     "output_type": "execute_result"
    }
   ],
   "source": [
    "# 8. Find the Union of Multiple Sets  \n",
    "# Task: Find the union of three sets.  \n",
    "# Example:  \n",
    "# set1 = {1, 2, 3}  \n",
    "# set2 = {3, 4, 5}  \n",
    "# set3 = {5, 6, 7}  \n",
    "# Output: {1, 2, 3, 4, 5, 6, 7}  \n",
    "\n",
    "set1 = {1, 2, 3}  \n",
    "set2 = {3, 4, 5}  \n",
    "set3 = {5, 6, 7}  \n",
    "\n",
    "set_three = set1 | set2 | set3\n",
    "set_three\n"
   ]
  },
  {
   "cell_type": "code",
   "execution_count": 5,
   "metadata": {},
   "outputs": [
    {
     "data": {
      "text/plain": [
       "{1: 'a', 2: 'b', 3: 'c'}"
      ]
     },
     "execution_count": 5,
     "metadata": {},
     "output_type": "execute_result"
    }
   ],
   "source": [
    "# 9. Reverse a Dictionary (Keys Become Values, Values Become Keys)  \n",
    "# Task: Swap keys and values in a dictionary.  \n",
    "# Example:  \n",
    "# original_dict = {'a': 1, 'b': 2, 'c': 3}  \n",
    "# Output: {1: 'a', 2: 'b', 3: 'c'}  \n",
    "\n",
    "original_dict = {'a': 1, 'b': 2, 'c': 3}  \n",
    "dict_new = {}\n",
    "\n",
    "for key,values in original_dict.items():\n",
    "    dict_new[values] = key\n",
    "dict_new\n",
    "\n"
   ]
  },
  {
   "cell_type": "code",
   "execution_count": 11,
   "metadata": {},
   "outputs": [
    {
     "name": "stdout",
     "output_type": "stream",
     "text": [
      "Anagram\n"
     ]
    }
   ],
   "source": [
    "# 10. Check If Two Words Are Anagrams Using Dictionaries  \n",
    "# Task: Given two words, check if they are anagrams (i.e., contain the same letters with the same frequency).  \n",
    "# Example:  \n",
    "# word1 = \"listen\"  \n",
    "# word2 = \"silent\"  \n",
    "# Output: True (They are anagrams)  \n",
    "\n",
    "word1 = \"listen\"  \n",
    "word2 = \"silent\"  \n",
    "\n",
    "lword1 = list(word1)\n",
    "lword2 = list(word2)\n",
    "\n",
    "ch = {}\n",
    "for c in word1.lower():\n",
    "    if c in ch.keys():\n",
    "        ch[c] = ch[c] + 1\n",
    "    else:\n",
    "        ch[c] = 1\n",
    "#print(ch)\n",
    "\n",
    "ch2 = {}\n",
    "for c in word2.lower():\n",
    "    if c in ch2.keys():\n",
    "        ch2[c] = ch2[c] + 1\n",
    "    else:\n",
    "        ch2[c] = 1\n",
    "#print(ch2)\n",
    "\n",
    "if (ch==ch2):\n",
    "    print(\"Anagram\")\n",
    "\n",
    "else:\n",
    "    print(\"Not Anagram\")\n",
    "\n"
   ]
  },
  {
   "cell_type": "code",
   "execution_count": null,
   "metadata": {},
   "outputs": [],
   "source": []
  }
 ],
 "metadata": {
  "kernelspec": {
   "display_name": "Python 3",
   "language": "python",
   "name": "python3"
  },
  "language_info": {
   "codemirror_mode": {
    "name": "ipython",
    "version": 3
   },
   "file_extension": ".py",
   "mimetype": "text/x-python",
   "name": "python",
   "nbconvert_exporter": "python",
   "pygments_lexer": "ipython3",
   "version": "3.13.2"
  }
 },
 "nbformat": 4,
 "nbformat_minor": 2
}
